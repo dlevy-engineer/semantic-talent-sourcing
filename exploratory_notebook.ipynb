{
 "cells": [
  {
   "cell_type": "markdown",
   "metadata": {},
   "source": [
    "# Creating an Intelligent Branded Content Assistant\n",
    "\n",
    "## Part 1 – Exploring the Possibilities\n",
    "\n",
    "The motivation behind this exercise is to build a small, tractable textual dataset that speaks to the general expertise of content creators associated with adventure-oriented media brands.\n",
    "\n",
    "We are going to attempt to create an AI assistant that can help select talent and build authentic, badass storylines around creators who have demonstrated their commitment to experiencing nature to the fullest.\n",
    "\n",
    "\n",
    "### Data Preparation and Pre-Processing\n",
    "\n",
    "This section of our notebook deals with the data retrieval, pre-processing, and storage techniques used to curate a source of truth for our AI application.\n",
    "\n",
    "##### Retrieving Biographical Information from Inkwell Media's 'Creator' Pages\n",
    "\n",
    "We're going to use BeautifulSoup because the task is small and simple. All we want to do is extract bioggraphical information from the members of Inkwell Media's 'Creator Network':\n",
    "\n",
    "![Inkwell Creator Network](images/inkwell_creator_network.png)\n"
   ]
  },
  {
   "cell_type": "code",
   "execution_count": 38,
   "metadata": {},
   "outputs": [],
   "source": [
    "# load dependencies\n",
    "import requests\n",
    "from bs4 import BeautifulSoup\n",
    "import pandas as pd"
   ]
  },
  {
   "cell_type": "code",
   "execution_count": 39,
   "metadata": {},
   "outputs": [],
   "source": [
    "# instantiate a variable to hold the content creator network page\n",
    "talent_roster_url = 'https://inkwell.media/creatornetwork'\n",
    "\n",
    "# extract the html\n",
    "talent_roster_html = requests.get(talent_roster_url)\n",
    "talent_roster_soup = BeautifulSoup(talent_roster_html.text, 'html.parser')\n",
    "\n",
    "# create a link list using a comprehension\n",
    "links = [node.get('href') for node in talent_roster_soup.find_all('a') if node.get('class') and node.get('class')[0] in ['content-fill', 'image-slide-anchor'] and 'instagram' not in node.get('href')]\n",
    "\n",
    "# create a data frame with the available data\n",
    "links_df = pd.DataFrame({'links' : links})"
   ]
  },
  {
   "cell_type": "code",
   "execution_count": 40,
   "metadata": {},
   "outputs": [
    {
     "data": {
      "text/html": [
       "<div>\n",
       "<style scoped>\n",
       "    .dataframe tbody tr th:only-of-type {\n",
       "        vertical-align: middle;\n",
       "    }\n",
       "\n",
       "    .dataframe tbody tr th {\n",
       "        vertical-align: top;\n",
       "    }\n",
       "\n",
       "    .dataframe thead th {\n",
       "        text-align: right;\n",
       "    }\n",
       "</style>\n",
       "<table border=\"1\" class=\"dataframe\">\n",
       "  <thead>\n",
       "    <tr style=\"text-align: right;\">\n",
       "      <th></th>\n",
       "      <th>links</th>\n",
       "    </tr>\n",
       "  </thead>\n",
       "  <tbody>\n",
       "    <tr>\n",
       "      <th>0</th>\n",
       "      <td>http://inkwell.media/creator/andrewmiller</td>\n",
       "    </tr>\n",
       "    <tr>\n",
       "      <th>1</th>\n",
       "      <td>http://inkwell.media/creator/jimmychin</td>\n",
       "    </tr>\n",
       "    <tr>\n",
       "      <th>2</th>\n",
       "      <td>http://www.inkwell.media/creator/ianwalsh</td>\n",
       "    </tr>\n",
       "    <tr>\n",
       "      <th>3</th>\n",
       "      <td>http://www.inkwell.media/creator/sashadigiulian</td>\n",
       "    </tr>\n",
       "    <tr>\n",
       "      <th>4</th>\n",
       "      <td>/creator/chrisburkard</td>\n",
       "    </tr>\n",
       "  </tbody>\n",
       "</table>\n",
       "</div>"
      ],
      "text/plain": [
       "                                             links\n",
       "0        http://inkwell.media/creator/andrewmiller\n",
       "1           http://inkwell.media/creator/jimmychin\n",
       "2        http://www.inkwell.media/creator/ianwalsh\n",
       "3  http://www.inkwell.media/creator/sashadigiulian\n",
       "4                            /creator/chrisburkard"
      ]
     },
     "execution_count": 40,
     "metadata": {},
     "output_type": "execute_result"
    }
   ],
   "source": [
    "links_df.head(5)"
   ]
  },
  {
   "cell_type": "code",
   "execution_count": 41,
   "metadata": {},
   "outputs": [
    {
     "data": {
      "text/html": [
       "<div>\n",
       "<style scoped>\n",
       "    .dataframe tbody tr th:only-of-type {\n",
       "        vertical-align: middle;\n",
       "    }\n",
       "\n",
       "    .dataframe tbody tr th {\n",
       "        vertical-align: top;\n",
       "    }\n",
       "\n",
       "    .dataframe thead th {\n",
       "        text-align: right;\n",
       "    }\n",
       "</style>\n",
       "<table border=\"1\" class=\"dataframe\">\n",
       "  <thead>\n",
       "    <tr style=\"text-align: right;\">\n",
       "      <th></th>\n",
       "      <th>links</th>\n",
       "      <th>slug</th>\n",
       "    </tr>\n",
       "  </thead>\n",
       "  <tbody>\n",
       "    <tr>\n",
       "      <th>0</th>\n",
       "      <td>http://inkwell.media/creator/andrewmiller</td>\n",
       "      <td>andrewmiller</td>\n",
       "    </tr>\n",
       "    <tr>\n",
       "      <th>1</th>\n",
       "      <td>http://inkwell.media/creator/jimmychin</td>\n",
       "      <td>jimmychin</td>\n",
       "    </tr>\n",
       "    <tr>\n",
       "      <th>2</th>\n",
       "      <td>http://www.inkwell.media/creator/ianwalsh</td>\n",
       "      <td>ianwalsh</td>\n",
       "    </tr>\n",
       "    <tr>\n",
       "      <th>3</th>\n",
       "      <td>http://www.inkwell.media/creator/sashadigiulian</td>\n",
       "      <td>sashadigiulian</td>\n",
       "    </tr>\n",
       "    <tr>\n",
       "      <th>4</th>\n",
       "      <td>/creator/chrisburkard</td>\n",
       "      <td>chrisburkard</td>\n",
       "    </tr>\n",
       "  </tbody>\n",
       "</table>\n",
       "</div>"
      ],
      "text/plain": [
       "                                             links            slug\n",
       "0        http://inkwell.media/creator/andrewmiller    andrewmiller\n",
       "1           http://inkwell.media/creator/jimmychin       jimmychin\n",
       "2        http://www.inkwell.media/creator/ianwalsh        ianwalsh\n",
       "3  http://www.inkwell.media/creator/sashadigiulian  sashadigiulian\n",
       "4                            /creator/chrisburkard    chrisburkard"
      ]
     },
     "execution_count": 41,
     "metadata": {},
     "output_type": "execute_result"
    }
   ],
   "source": [
    "# split the links to get an informative slug\n",
    "links_df['slug'] = links_df['links'].str.split('/').str[-1]\n",
    "links_df.head(5)"
   ]
  },
  {
   "cell_type": "markdown",
   "metadata": {},
   "source": [
    "Now for the more intensive scraping task... We need to create a header so that Inkwell's site (which is built on Squarespace, and is wont to return a message telling us to visit a Squarespace status page for additional information) can't tell the difference between our scraper and real traffic.\n",
    "\n",
    "We don't need to get too intense, though. For instance, I'm not going to try to feed it additional parameters other than the heading."
   ]
  },
  {
   "cell_type": "code",
   "execution_count": 42,
   "metadata": {},
   "outputs": [],
   "source": [
    "# instantiate a header\n",
    "hdr = {\n",
    "'sec-ch-ua': '\" Not A;Brand\";v=\"99\", \"Chromium\";v=\"90\", \"Google Chrome\";v=\"90\"',\n",
    "'sec-ch-ua-mobile': '?0',\n",
    "'Upgrade-Insecure-Requests': '1',\n",
    "'User-Agent': 'Mozilla/5.0 (Windows NT 10.0; Win64; x64) AppleWebKit/537.36 (KHTML, like Gecko) Chrome/90.0.4430.85 Safari/537.36'} "
   ]
  },
  {
   "cell_type": "code",
   "execution_count": 43,
   "metadata": {},
   "outputs": [
    {
     "data": {
      "text/html": [
       "<div>\n",
       "<style scoped>\n",
       "    .dataframe tbody tr th:only-of-type {\n",
       "        vertical-align: middle;\n",
       "    }\n",
       "\n",
       "    .dataframe tbody tr th {\n",
       "        vertical-align: top;\n",
       "    }\n",
       "\n",
       "    .dataframe thead th {\n",
       "        text-align: right;\n",
       "    }\n",
       "</style>\n",
       "<table border=\"1\" class=\"dataframe\">\n",
       "  <thead>\n",
       "    <tr style=\"text-align: right;\">\n",
       "      <th></th>\n",
       "      <th>links</th>\n",
       "      <th>slug</th>\n",
       "      <th>bio</th>\n",
       "    </tr>\n",
       "  </thead>\n",
       "  <tbody>\n",
       "    <tr>\n",
       "      <th>0</th>\n",
       "      <td>http://inkwell.media/creator/andrewmiller</td>\n",
       "      <td>andrewmiller</td>\n",
       "      <td>Andrew Miller is a Utah-based adventure photog...</td>\n",
       "    </tr>\n",
       "    <tr>\n",
       "      <th>1</th>\n",
       "      <td>http://inkwell.media/creator/jimmychin</td>\n",
       "      <td>jimmychin</td>\n",
       "      <td>Jimmy Chin is an Academy Award winning filmmak...</td>\n",
       "    </tr>\n",
       "    <tr>\n",
       "      <th>2</th>\n",
       "      <td>http://www.inkwell.media/creator/ianwalsh</td>\n",
       "      <td>ianwalsh</td>\n",
       "      <td>Maui native Ian Walsh has been tackling massiv...</td>\n",
       "    </tr>\n",
       "    <tr>\n",
       "      <th>3</th>\n",
       "      <td>http://www.inkwell.media/creator/sashadigiulian</td>\n",
       "      <td>sashadigiulian</td>\n",
       "      <td>Sasha DiGiulian is a professional climber. She...</td>\n",
       "    </tr>\n",
       "    <tr>\n",
       "      <th>4</th>\n",
       "      <td>/creator/chrisburkard</td>\n",
       "      <td>chrisburkard</td>\n",
       "      <td>Chris Burkard is an American self-taught photo...</td>\n",
       "    </tr>\n",
       "  </tbody>\n",
       "</table>\n",
       "</div>"
      ],
      "text/plain": [
       "                                             links            slug  \\\n",
       "0        http://inkwell.media/creator/andrewmiller    andrewmiller   \n",
       "1           http://inkwell.media/creator/jimmychin       jimmychin   \n",
       "2        http://www.inkwell.media/creator/ianwalsh        ianwalsh   \n",
       "3  http://www.inkwell.media/creator/sashadigiulian  sashadigiulian   \n",
       "4                            /creator/chrisburkard    chrisburkard   \n",
       "\n",
       "                                                 bio  \n",
       "0  Andrew Miller is a Utah-based adventure photog...  \n",
       "1  Jimmy Chin is an Academy Award winning filmmak...  \n",
       "2  Maui native Ian Walsh has been tackling massiv...  \n",
       "3  Sasha DiGiulian is a professional climber. She...  \n",
       "4  Chris Burkard is an American self-taught photo...  "
      ]
     },
     "execution_count": 43,
     "metadata": {},
     "output_type": "execute_result"
    }
   ],
   "source": [
    "# instantiate an empty dictionary\n",
    "bios = []\n",
    "\n",
    "# loop through the data frame\n",
    "for i, row in links_df.iterrows():\n",
    "    \n",
    "    # if there's no protocol or home page route, add it to the front of the reference link\n",
    "    if 'http' not in row['links']:\n",
    "        url = 'http://www.inkwell.media' + row['links']\n",
    "        \n",
    "    # otherwise, use the link provided\n",
    "    else:\n",
    "        url = row['links']\n",
    "        \n",
    "    # retrieve the html from the specific creator page in question on this iteration\n",
    "    bio_page = requests.get(url, headers=hdr)\n",
    "    bio_soup = BeautifulSoup(bio_page.text, 'html.parser')\n",
    "    \n",
    "    # grab the first paragraph div and assign its text to the dictionary, with the slug as the key\n",
    "    bio_text = bio_soup.find('p').text\n",
    "    bios.append(bio_text)\n",
    "    \n",
    "# add the bios to the data frame\n",
    "creator_df = links_df.copy()\n",
    "creator_df['bio'] = bios\n",
    "\n",
    "creator_df.head(5)"
   ]
  },
  {
   "cell_type": "code",
   "execution_count": 44,
   "metadata": {},
   "outputs": [],
   "source": [
    "with open('resources/testwrite.txt', 'w') as file:\n",
    "    \n",
    "    for i, row in creator_df.iterrows():\n",
    "        file.write(\n",
    "f\"\"\"\n",
    "Bio: {row['bio']}\n",
    "Link: {row['links']}\n",
    "\n",
    "\n",
    "\"\"\"\n",
    "        )"
   ]
  },
  {
   "cell_type": "markdown",
   "metadata": {},
   "source": [
    "##### Preparing the Data for LLM Compatibility\n",
    "\n",
    "Now it's time to pull in some tools we can use to work with LLMs—specifically `LlamaIndex` and `LangChain`, which should help us vectorize our database and optimize prompt engineering, respectively.\n",
    "\n",
    "We'll start by loading API keys and instantiating environment variables:"
   ]
  },
  {
   "cell_type": "code",
   "execution_count": 45,
   "metadata": {},
   "outputs": [
    {
     "data": {
      "text/plain": [
       "True"
      ]
     },
     "execution_count": 45,
     "metadata": {},
     "output_type": "execute_result"
    }
   ],
   "source": [
    "# load environment variables\n",
    "import os\n",
    "from dotenv import load_dotenv, find_dotenv\n",
    "\n",
    "load_dotenv(find_dotenv())"
   ]
  },
  {
   "cell_type": "markdown",
   "metadata": {},
   "source": [
    "And we should start with a basic query to GPT-4 to make sure everything is working properly with our connection to the LLM:"
   ]
  },
  {
   "cell_type": "code",
   "execution_count": 48,
   "metadata": {},
   "outputs": [
    {
     "name": "stdout",
     "output_type": "stream",
     "text": [
      "Title: \"Pedal to the Peak: Max Thompson's Journey to Mountain Biking Glory\"\n",
      "\n",
      "Storyline:\n",
      "Max Thompson, a small-town prodigy, has skyrocketed to international fame as the mountain biking world's most celebrated talent. With his fierce dedication, Max has pushed the boundaries of the sport, leaving fans and fellow athletes in awe. \"Pedal to the Peak\" follows Max's inspiring journey, from his humble beginnings in rural Colorado, to his relentless pursuit of greatness in the most challenging terrains worldwide. \n",
      "\n",
      "As Max's reputation grows, he takes on the most grueling test of his career: the prestigious Red Mountain Challenge. A treacherous course filled with dangerous obstacles and steep inclines, Red Mountain is notorious for breaking down even the most seasoned riders. Max's determination, however, remains unshaken, as he navigates the unforgiving terrain. Through perseverance and intense focus, Max overcomes adversity and emerges victorious, cementing his status as a mountain biking legend.\n",
      "\n",
      "Suggested Sponsor Brands:\n",
      "1. Trek Bikes – As a leading bicycle manufacturer, sponsoring Max's journey aligns with their brand values of passion, adventure, and excellence in the sport.\n",
      "2. Red Bull – Known for supporting extreme sports and athletes, Red Bull's sponsorship would emphasize the adrenaline-filled nature of Max's pursuit.\n",
      "3. GoPro – Capturing Max's breathtaking rides and candid moments with GoPro cameras would not only showcase their product capabilities, but also provide viewers with an immersive experience.\n",
      "4. Patagonia – As an outdoor clothing and gear brand, sponsoring Max's journey highlights their commitment to supporting athletes who push the limits of their sports.\n",
      "5. Oakley – Max's reliance on Oakley's performance eyewear during his thrilling rides would demonstrate the brand's commitment to quality and performance./n"
     ]
    }
   ],
   "source": [
    "from langchain.schema import (\n",
    "    AIMessage,\n",
    "    HumanMessage,\n",
    "    SystemMessage\n",
    ")\n",
    "\n",
    "from langchain.chat_models import ChatOpenAI\n",
    "\n",
    "chat = ChatOpenAI(model_name='gpt-4', temperature=0.7)\n",
    "messages = [\n",
    "    SystemMessage(content='You are a senior creative writer for Outside Media.'),\n",
    "    HumanMessage(content='Create a 200-word storyline around famous mountain biking talent, and suggest brands that might want to sponsor the content.')\n",
    "]\n",
    "\n",
    "response=chat(messages)\n",
    "\n",
    "print(response.content, end='/n')"
   ]
  },
  {
   "cell_type": "markdown",
   "metadata": {},
   "source": [
    "Looks great. Now we can focus on vectorizing our creator data and creating some chains that can help us narrow the focus and specialize our AI application:"
   ]
  },
  {
   "cell_type": "code",
   "execution_count": 55,
   "metadata": {},
   "outputs": [],
   "source": [
    "# load langchain and pinecone dependencies\n",
    "from langchain.llms import OpenAI\n",
    "from langchain.document_loaders import TextLoader\n",
    "from langchain.text_splitter import CharacterTextSplitter\n",
    "from langchain.embeddings.openai import OpenAIEmbeddings\n",
    "from langchain.vectorstores import Pinecone\n",
    "from langchain.chains.question_answering import load_qa_chain\n",
    "import pinecone\n",
    "\n",
    "# load our text document and split it into new documents\n",
    "loader = TextLoader('resources/testwrite.txt')\n",
    "documents = loader.load()\n",
    "text_splitter = CharacterTextSplitter(chunk_size=900, chunk_overlap=0)\n",
    "docs = text_splitter.split_documents(documents)\n",
    "\n",
    "# instantiate the embeddings model from OpenAI\n",
    "embeddings = OpenAIEmbeddings()"
   ]
  },
  {
   "cell_type": "code",
   "execution_count": 51,
   "metadata": {},
   "outputs": [],
   "source": [
    "# create a pinecone index or load the existing one\n",
    "pinecone.init(\n",
    "    api_key=PINECONE_API_KEY,\n",
    "    environment=PINECONE_ENVIRONMENT\n",
    ")\n",
    "\n",
    "index_name = 'outsidedemo1'\n",
    "\n",
    "if index_name not in pinecone.list_indexes():\n",
    "    \n",
    "    pinecone.create_index(\n",
    "        name=index_name, \n",
    "        metric=\"cosine\",\n",
    "        dimension=1536\n",
    "    )\n",
    "    \n",
    "    docsearch = Pinecone.from_documents(\n",
    "        docs, \n",
    "        embeddings, \n",
    "        index_name=index_name\n",
    "    )\n",
    "\n",
    "else:\n",
    "    docsearch = Pinecone.from_existing_index(\n",
    "        index_name, \n",
    "        embeddings\n",
    "    )"
   ]
  },
  {
   "cell_type": "markdown",
   "metadata": {},
   "source": [
    "### Making Use of Vectorized Data\n",
    "\n",
    "##### Testing Some Basic LLM Functionality for Our Customized Database\n",
    "\n",
    "The first things we need to be able to do are:\n",
    "\n",
    "1) Retrieve documents related to a specific query through similarity search within our vectorized database, and display similarity scores so we can supervise the model and make sure that it's returning results that make sense to a user with industry experience.\n",
    "\n",
    "2) Answer factual questions about our custom database with natural language user queries.\n",
    "\n",
    "Once we achieve those objectives, we can move on and try to optimize our ablity to develop content ideas around the creators in our network."
   ]
  },
  {
   "cell_type": "code",
   "execution_count": 97,
   "metadata": {},
   "outputs": [],
   "source": [
    "## a function that should return `k` related documents from our\n",
    "## pinecone database, along with the context and a relevance score\n",
    "def get_similar(query, k=10, score=False):\n",
    "    \n",
    "    if score:\n",
    "        similar_docs = docsearch.similarity_search_with_score(\n",
    "            query,\n",
    "            k=k\n",
    "        )\n",
    "        \n",
    "    else:\n",
    "        similar_docs = docsearch.similarity_search(\n",
    "            query,\n",
    "            k=k\n",
    "        )\n",
    "    \n",
    "    return similar_docs"
   ]
  },
  {
   "cell_type": "code",
   "execution_count": 98,
   "metadata": {},
   "outputs": [],
   "source": [
    "# instantiate the model\n",
    "model_name = 'gpt-4'\n",
    "llm = OpenAI(model_name=model_name)\n",
    "\n",
    "# define a chain specifically designed for document-based Q&A\n",
    "chain = load_qa_chain(llm, chain_type='stuff')\n",
    "\n",
    "# put a function wrapper around the chain\n",
    "def get_answer(query):\n",
    "    \n",
    "    similar_docs = get_similar(query)\n",
    "    answer = chain.run(input_documents=similar_docs, question=query)\n",
    "    \n",
    "    return answer"
   ]
  },
  {
   "cell_type": "code",
   "execution_count": 96,
   "metadata": {},
   "outputs": [
    {
     "data": {
      "text/plain": [
       "'Yes, Sunny Stroeer is an adventure photographer with experience in the Andes. She holds multiple speed records in the greater ranges, including the \"360\" record on 22,838ft Aconcagua in the Andes.'"
      ]
     },
     "execution_count": 96,
     "metadata": {},
     "output_type": "execute_result"
    }
   ],
   "source": [
    "get_answer('Do we have any adventure photographers with experience in the Andes?')"
   ]
  },
  {
   "cell_type": "markdown",
   "metadata": {},
   "source": [
    "Fantastic. That's specific, it's based on context that makes sense to the user, and it's a really good indicator that the LLM is a powerful ally in this task. That's because if we look back at the data we vectorized, Sunny's bio reads as follows:\n",
    "\n",
    "    Sunny is a photographer and world-class mountain athlete. Her award-winning photography is complemented by her extensive expedition and high-angle experience, and outstanding endurance ability.  She holds multiple speed records in the greater ranges including the “360\" record on 22,838ft Aconcagua. Sunny is also a competent big wall climber and, as a frequent solo adventurer, used to creating exceptional content in unforgiving environments in a highly nimble fashion.\n",
    "    \n",
    "Notice that nowhere in the text does it mention the \"Andes\". Instead, we've allowed OpenAI's embedding to assign similarity between our query and 'Aconcagua'.\n",
    "\n",
    "Just for the sake of taking a look under the hood, let's see what happened with the `get_similar()` function that was called through the `get_answer()` request we made above:"
   ]
  },
  {
   "cell_type": "code",
   "execution_count": 101,
   "metadata": {},
   "outputs": [
    {
     "data": {
      "text/plain": [
       "[(Document(page_content='Bio: Tony is an adventure lifestyle photographer who has spent most of his life climbing, skiing, surfing and chasing adventure - after nearly a decade in the industry, he’s established himself as not only a photographer & DP but also a photo journalist. A few of his recent projects include a kayak documentary shot in the rebel territories of Mexico and tracing the Marco Polo Path along the Tajikistan and Afghan border. Tony has worked with numerous clients including Patagonia, Toyota, and Red Bull and has been published in works such as GQ, Nat Geo Adventure, and Outside Magazine.\\nLink: http://inkwell.media/creator/tonyczech', metadata={'source': 'resources/testwrite.txt'}),\n",
       "  0.8237468),\n",
       " (Document(page_content='Bio: Sofia Jaramillo is an outdoor commercial photographer based in Jackson, Wyoming. Her background is in photojournalism. She believes in the power of storytelling and with this approach has photographed ad campaigns for some of the top outdoor brands. When she’s not working on photos, she’s skiing or climbing in the Tetons.\\nLink: http://inkwell.media/creator/sofiajaramillo\\n\\n\\n\\nBio: Andy Best lives a nomadic lifestyle out of his camper, using it as a mobile basecamp for chasing high peaks and delving deep into the backcountry. He has an incredible talent for capturing moments that evoke emotion. Andy is a regular contributor to National Geographic Adventure, ROAM, and his production company, Lone Bison Films.\\nLink: http://www.inkwell.media/creator/andybest', metadata={'source': 'resources/testwrite.txt'}),\n",
       "  0.822164834),\n",
       " (Document(page_content='Bio: Andrew Miller is a Utah-based adventure photographer mainly focusing on documenting some of the best snowboarders all over the globe. From foot-powered expeditions with Jeremy Jones at 20,000 feet in Nepal to snowmobiling in Jackson Hole with Travis Rice, Andrew has been there creating his work and quickly establishing himself as one of the most well rounded photographers in the snow industry. He currently sits as senior staff photographer at Transworld Snowboarding Magazine.\\nLink: http://inkwell.media/creator/andrewmiller', metadata={'source': 'resources/testwrite.txt'}),\n",
       "  0.820528567),\n",
       " (Document(page_content='Bio: Errin Casano is an adventure and lifestyle photographer based in Vancouver, Canada. Her passion for travel and adventure was sparked by her first backpacking experience through Central America. Since then she has been consistently on the move. She has worked with brands such as Eddie Bauer, Coleman, Backcountry.com, and Toyota Canada.\\xa0\\nLink: http://inkwell.media/creator/errincasano\\n\\n\\n\\nBio: Stein Retzlaff is a young adventurer rooted in conservation, social media, and entrepreneurship. Together, he and Erich Roepke founded Intrepid- an expedition media company dedicated to creating exciting media campaigns around expeditions. Their partners include Ice Axe Expeditions, Ice Legacy Project, SeaLegacy, Climbers of Color and the School for International Expedition Training.\\nLink: http://inkwell.media/creator/steinretzlaff', metadata={'source': 'resources/testwrite.txt'}),\n",
       "  0.817240715),\n",
       " (Document(page_content='Bio: Greg Von Doersten is one of the preeminent adventure photographers in the world today recognized as a leader in the action sports, adventure and travel photography fields. Based in Jackson, Wyoming with the outdoors as his primary canvas, Greg has moved through myriad environments to capture iconic images and motion frames from around the world.\\nLink: http://www.inkwell.media/creator/gregvondoersten', metadata={'source': 'resources/testwrite.txt'}),\n",
       "  0.816329598),\n",
       " (Document(page_content=\"Bio: Zach Doleac was born and bred in the Pacific Northwest, but these days he is living the life of a world-traveling photographer. Capturing photographs began as a passion, evolved into a profession, and manifested as a lifestyle. His images have told stories for Rolling Stone, Men's Journal, Redbull, Columbia Sportswear, Eddie Bauer, Marmot, Brooks Running, Filson, K2 Sports, and Smith Optics.\\nLink: http://www.inkwell.media/creator/zachdoleac\\n\\n\\n\\nBio: Anna Pfaff is an alpinist and expedition climber who has a passion for the complexity of alpine, traditional and ice climbing. She has completed multiple expeditions to Antarctica, the Karakorum Range of Pakistan, Himalaya of Tibet, Nepal and India, the Tian Shan of Kyrgyzstan, the vast ranges in South America, which include first ascents and multiple new routes.\\nLink: http://inkwell.media/creator/annapfaff\", metadata={'source': 'resources/testwrite.txt'}),\n",
       "  0.813083351),\n",
       " (Document(page_content='Bio: For over a decade, Andy Mann has been a forerunner in the world of adventure film and conservation photography. He is an experienced climber, diver, and arctic explorer whose imagery is helping tell the story of our rapidly changing planet, documenting expeditions on all 7 continents for National Geographic Magazine, Sea Legacy, National Geographic’s Pristine Seas, Wildlife Conservation Society and more. Andy is the co-founder and director at 3 Strings Productions and works with clients such as Red Bull, Toyota, The North Face, and a founding member of the Sea Legacy Collective with Paul Nicklen and Cristina Mittermeier. \\nLink: http://www.inkwell.media/creator/andymann', metadata={'source': 'resources/testwrite.txt'}),\n",
       "  0.812857211),\n",
       " (Document(page_content='Bio: Andrew Miller is a Utah-based adventure photographer mainly focusing on documenting some of the best snowboarders all over the globe. From foot-powered expeditions with Jeremy Jones at 20,000 feet in Nepal to snowmobiling in Jackson Hole with Travis Rice, Andrew has been there creating his work and quickly establishing himself as one of the most well rounded photographers in the snow industry. He currently sits as senior staff photographer at Transworld Snowboarding Magazine.\\nLink: http://inkwell.media/creator/andrewmiller\\n\\n\\n\\nBio: Sonnie Trotter is one of the world’s most accomplished rock climbers. He enjoys mixing up all styles of climbing, and he’s known for his strength in many rock climbing disciplines, contributing to hundreds of first ascents around the world.\\nLink: http://www.inkwell.media/creator/sonnietrotter', metadata={'source': 'resources/testwrite.txt'}),\n",
       "  0.810153961),\n",
       " (Document(page_content='Bio: Chris Figenshau is known for his decades-long career as an expedition and high angle shooter. As a cinematographer, he has documented Jeremy Jones’ climb and descent of the Shangri La spine wall in Nepal - the highest ever ridden - and he has covered the mountaineering pursuits of Jimmy Chin, Conrad Anker and Renan Ozturk for the award-winning documentary film Meru. As a still photographer, Figenshau has been contracted by brands such as The North Face, Patagonia and Eddie Bauer, and publications including Powder, Outside and National Geographic.\\nLink: http://www.inkwell.media/creator/chrisfigenshau', metadata={'source': 'resources/testwrite.txt'}),\n",
       "  0.809664607),\n",
       " (Document(page_content='Bio: Sunny is a photographer and world-class mountain athlete. Her award-winning photography is complemented by her extensive expedition and high-angle experience, and outstanding endurance ability.\\xa0 She holds multiple speed records in the greater ranges including the “360\" record on 22,838ft Aconcagua. Sunny is also a competent big wall climber and, as a frequent solo adventurer, used to creating exceptional content in unforgiving environments in a highly nimble fashion.\\xa0\\xa0\\nLink: http://inkwell.media/creator/sunnystroeer', metadata={'source': 'resources/testwrite.txt'}),\n",
       "  0.808852255)]"
      ]
     },
     "execution_count": 101,
     "metadata": {},
     "output_type": "execute_result"
    }
   ],
   "source": [
    "## observe the relevant document retrieval\n",
    "get_similar(\n",
    "    'Do we have any adventure photographers with experience in the Andes?',\n",
    "    score=True\n",
    ")"
   ]
  },
  {
   "cell_type": "markdown",
   "metadata": {},
   "source": [
    "Okay now this is interesting. It did answer us correctly, but it looks like there was a lot of output with similarity scores in the '80s, and we're not exactly sure why it chose to answer with just Sunny. We might need to dig into this more as we iron out specific use-cases.\n",
    "\n",
    "##### Probing the Model to Test Fidelity\n",
    "\n",
    "For now, let's probe it a little just to see what resonses to more specific questions look like:"
   ]
  },
  {
   "cell_type": "code",
   "execution_count": 102,
   "metadata": {},
   "outputs": [
    {
     "data": {
      "text/plain": [
       "\"Yes, Andy Mann has experience with expeditions on all 7 continents, including the Andes, and has worked for National Geographic Magazine, Sea Legacy, and National Geographic's Pristine Seas.\""
      ]
     },
     "execution_count": 102,
     "metadata": {},
     "output_type": "execute_result"
    }
   ],
   "source": [
    "get_answer('Do we have any adventure photographers with experience in the Andes who have previously worked with National Geographic?')"
   ]
  },
  {
   "cell_type": "code",
   "execution_count": 108,
   "metadata": {},
   "outputs": [
    {
     "data": {
      "text/plain": [
       "'1. Keith Ladzinski: He has made films, advertising, and television content for National Geographic TV.\\n2. Paul Nicklen: He is an assignment photographer for National Geographic Magazine, a National Geographic Fellow, and has documented expeditions for National Geographic on all 7 continents.\\n3. Andy Mann: He has documented expeditions on all 7 continents for National Geographic Magazine and is a director at 3 Strings Productions, which works with clients like National Geographic.\\n4. Pete McBride: He has traveled on assignment to over 75 countries for the National Geographic Society and has produced a book and documentaries for them.\\n\\nThese adventure photographers have worked with National Geographic, either as assignment photographers, documentarians, or creating content for their various platforms.'"
      ]
     },
     "execution_count": 108,
     "metadata": {},
     "output_type": "execute_result"
    }
   ],
   "source": [
    "get_answer('List all adventure photographers who have previously worked with National Geographic, and explain the connection.')"
   ]
  },
  {
   "cell_type": "code",
   "execution_count": 104,
   "metadata": {},
   "outputs": [
    {
     "data": {
      "text/plain": [
       "'Chris Figenshau has worked with National Geographic as a still photographer, documenting various expeditions and adventures.'"
      ]
     },
     "execution_count": 104,
     "metadata": {},
     "output_type": "execute_result"
    }
   ],
   "source": [
    "get_answer('In what capacity has Chris Figenshau worked with National Geographic.')"
   ]
  },
  {
   "cell_type": "markdown",
   "metadata": {},
   "source": [
    "Okay now let's try something a little more specific to branded content development:"
   ]
  },
  {
   "cell_type": "code",
   "execution_count": 99,
   "metadata": {},
   "outputs": [
    {
     "data": {
      "text/plain": [
       "'Sonya Looney would be a great ambassador for a company that sells cycling gear, as she is a World Champion endurance mountain biker, motivational speaker, writer, and adventure traveler.'"
      ]
     },
     "execution_count": 99,
     "metadata": {},
     "output_type": "execute_result"
    }
   ],
   "source": [
    "get_answer('Who do we know that could be a great ambassador for a company that sells cycling gear')"
   ]
  },
  {
   "cell_type": "code",
   "execution_count": 105,
   "metadata": {},
   "outputs": [
    {
     "data": {
      "text/plain": [
       "'1. Sonya Looney: As a World Champion endurance mountain biker, Sonya would be a great ambassador for a cycling gear company because she has experience, success, and credibility in the biking world.\\n\\n2. Lea Davison: Lea is an American cross-country mountain biker with two World Championships titles and two Olympic medals. Her experience and success in the sport make her a strong candidate as an ambassador for a cycling gear company.\\n\\n3. Adrien Costa: Despite losing his right leg in a mountain accident, Adrien has continued to push the boundaries of what is possible for people with physical limitations. As a former professional road cyclist and current climber, he would bring a unique and inspiring perspective as an ambassador for a cycling gear company.'"
      ]
     },
     "execution_count": 105,
     "metadata": {},
     "output_type": "execute_result"
    }
   ],
   "source": [
    "get_answer('Give me a list of everyone who would make sense as an ambassador for a cycling gear company and explain why.')"
   ]
  },
  {
   "cell_type": "code",
   "execution_count": 107,
   "metadata": {},
   "outputs": [
    {
     "data": {
      "text/plain": [
       "'1. Adrien Costa - Adrien had a mountain accident in 2018 that resulted in the amputation of his right leg above the knee.\\n2. Quinn Brett - Quinn sustained paralysis below the waist due to a 100-foot fall while climbing in Yosemite in October 2017.\\n3. Jeff Denholm - Jeff lost his dominant arm in an accident on an Alaskan fishing trawler.'"
      ]
     },
     "execution_count": 107,
     "metadata": {},
     "output_type": "execute_result"
    }
   ],
   "source": [
    "get_answer('Give me a full list of our athletes with disabilities, and explain what they are.')"
   ]
  },
  {
   "cell_type": "markdown",
   "metadata": {},
   "source": [
    "Okay, I'm sold. This is working well enough to move onto putting together some creative content development modules. We'll get started on that in the next notebook."
   ]
  },
  {
   "cell_type": "code",
   "execution_count": 109,
   "metadata": {
    "scrolled": true
   },
   "outputs": [
    {
     "name": "stdout",
     "output_type": "stream",
     "text": [
      "Input goes here.\n"
     ]
    },
    {
     "data": {
      "text/plain": [
       "'Input goes here.'"
      ]
     },
     "execution_count": 109,
     "metadata": {},
     "output_type": "execute_result"
    }
   ],
   "source": [
    "input('')"
   ]
  },
  {
   "cell_type": "code",
   "execution_count": null,
   "metadata": {},
   "outputs": [],
   "source": []
  }
 ],
 "metadata": {
  "kernelspec": {
   "display_name": "Python 3 (ipykernel)",
   "language": "python",
   "name": "python3"
  },
  "language_info": {
   "codemirror_mode": {
    "name": "ipython",
    "version": 3
   },
   "file_extension": ".py",
   "mimetype": "text/x-python",
   "name": "python",
   "nbconvert_exporter": "python",
   "pygments_lexer": "ipython3",
   "version": "3.9.16"
  }
 },
 "nbformat": 4,
 "nbformat_minor": 2
}
